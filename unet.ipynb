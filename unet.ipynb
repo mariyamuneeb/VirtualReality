{
 "cells": [
  {
   "cell_type": "code",
   "execution_count": null,
   "metadata": {
    "pycharm": {
     "name": "#%%\n"
    }
   },
   "outputs": [],
   "source": [
    "import tensorflow as tf\n",
    "from tensorflow.keras import layers\n",
    "from tensorflow.keras import Model\n",
    "from IPython.display import clear_output\n",
    "from tensorflow.keras.preprocessing.image import ImageDataGenerator\n",
    "import pandas as pd\n",
    "import matplotlib.pyplot as plt\n",
    "import numpy as np"
   ]
  },
  {
   "cell_type": "code",
   "execution_count": null,
   "metadata": {
    "pycharm": {
     "name": "#%%\n"
    }
   },
   "outputs": [],
   "source": [
    "columns = ['x_col']\n",
    "df_images = pd.DataFrame(columns=columns)\n",
    "df_masks = pd.DataFrame(columns=columns)\n",
    "\n",
    "trainval_path = 'C:\\\\Users\\\\tayyabm\\\\Downloads\\\\oxford_cats_segmentation\\\\annotations\\\\trainval.txt'\n",
    "test_path = 'C:\\\\Users\\\\tayyabm\\\\Downloads\\\\oxford_cats_segmentation\\\\annotations\\\\test.txt'\n",
    "\n",
    "def get_image_mask_df(path):\n",
    "    f = open(trainval_path,'r')\n",
    "    image_names = []\n",
    "    mask_names = []\n",
    "    for i in f:\n",
    "        image_name = i.split(' ')[0]\n",
    "        image_names.append(['images\\\\'+ image_name + '.jpg'])\n",
    "        mask_names.append(['annotations\\\\trimaps\\\\' + image_name+'.png'])\n",
    "    \n",
    "    \n",
    "    df_images = pd.DataFrame(image_names,columns = columns)\n",
    "    df_masks = pd.DataFrame(mask_names,columns = columns)\n",
    "    return df_images, df_masks\n",
    "df_train_images, df_train_masks = get_image_mask_df(trainval_path)\n",
    "df_test_images, df_test_masks = get_image_mask_df(test_path)"
   ]
  },
  {
   "cell_type": "code",
   "execution_count": null,
   "metadata": {
    "pycharm": {
     "name": "#%%\n"
    }
   },
   "outputs": [],
   "source": [
    "print(df_train_images.head())\n",
    "print(df_train_masks.head())"
   ]
  },
  {
   "cell_type": "code",
   "execution_count": null,
   "metadata": {
    "pycharm": {
     "name": "#%%\n"
    }
   },
   "outputs": [],
   "source": [
    "def preprocess_image(input_image):\n",
    "    input_image = tf.cast(input_image, tf.float32) / 255.0\n",
    "    \n",
    "    return input_image\n",
    "def preprocess_mask(input_mask):\n",
    "    input_mask -= 1\n",
    "    return input_mask\n",
    "\n",
    "def display(display_list):\n",
    "    plt.figure(figsize=(15, 15))\n",
    "    title = ['Input Image', 'True Mask', 'Predicted Mask']\n",
    "    for i in range(len(display_list)):\n",
    "        plt.subplot(1, len(display_list), i+1)\n",
    "        plt.title(title[i])\n",
    "        plt.imshow(tf.keras.preprocessing.image.array_to_img(display_list[i]))\n",
    "        plt.axis('off')\n",
    "    plt.show()"
   ]
  },
  {
   "cell_type": "code",
   "execution_count": null,
   "metadata": {
    "pycharm": {
     "name": "#%%\n"
    }
   },
   "outputs": [],
   "source": [
    "batch_size = 64"
   ]
  },
  {
   "cell_type": "code",
   "execution_count": null,
   "metadata": {
    "pycharm": {
     "name": "#%%\n"
    }
   },
   "outputs": [],
   "source": []
  },
  {
   "cell_type": "code",
   "execution_count": null,
   "metadata": {
    "pycharm": {
     "name": "#%%\n"
    }
   },
   "outputs": [],
   "source": [
    "diabetes_directory_images = 'C:\\\\Users\\\\tayyabm\\\\Downloads\\\\\\Diabetes_Segmentation\\\\Original_Images\\\\Training_Set'\n",
    "diabetes_directory_masks = 'C:\\\\Users\\\\tayyabm\\\\Downloads\\\\Diabetes_Segmentation\\\\All_Segmentation_Groundtruths\\\\Training_Set\\\\Microaneurysms'"
   ]
  },
  {
   "cell_type": "code",
   "execution_count": null,
   "metadata": {
    "pycharm": {
     "name": "#%%\n"
    }
   },
   "outputs": [],
   "source": []
  },
  {
   "cell_type": "code",
   "execution_count": null,
   "metadata": {
    "pycharm": {
     "name": "#%%\n"
    }
   },
   "outputs": [],
   "source": [
    "cats_directory = 'C:\\\\Users\\\\tayyabm\\\\Downloads\\\\oxford_cats_segmentation'\n",
    "\n",
    "image_data_gen = ImageDataGenerator(preprocessing_function=preprocess_image)\n",
    "mask_data_gen = ImageDataGenerator(preprocessing_function=preprocess_mask)\n",
    "# train_image_generator = image_data_gen.flow_from_directory(diabetes_directory_images,target_size=(128,128),class_mode=None,shuffle=False,seed=0)\n",
    "# train_mask_generator = image_data_gen.flow_from_directory(diabetes_directory_masks,target_size=(128,128),class_mode=None,shuffle=False,seed=0)\n",
    "train_image_generator = image_data_gen.flow_from_dataframe(dataframe=df_train_images,x_col='x_col',directory=cats_directory,class_mode=None,target_size=(128,128),batch_size=batch_size, shuffle=False)\n",
    "train_mask_generator = mask_data_gen.flow_from_dataframe(dataframe=df_train_masks,x_col='x_col',directory=cats_directory,class_mode=None,target_size=(128,128),batch_size=batch_size, shuffle=False)"
   ]
  },
  {
   "cell_type": "code",
   "execution_count": null,
   "metadata": {
    "pycharm": {
     "name": "#%%\n"
    }
   },
   "outputs": [],
   "source": [
    "sample_image = tf.keras.preprocessing.image.array_to_img(train_image_generator.next()[0])\n",
    "sample_mask = tf.keras.preprocessing.image.array_to_img(train_mask_generator.next()[0])"
   ]
  },
  {
   "cell_type": "code",
   "execution_count": null,
   "metadata": {
    "pycharm": {
     "name": "#%%\n"
    }
   },
   "outputs": [],
   "source": [
    "train_mask_generator.next()[0].shape"
   ]
  },
  {
   "cell_type": "code",
   "execution_count": null,
   "metadata": {
    "pycharm": {
     "name": "#%%\n"
    }
   },
   "outputs": [],
   "source": [
    "display([sample_image,sample_mask])"
   ]
  },
  {
   "cell_type": "code",
   "execution_count": null,
   "metadata": {
    "pycharm": {
     "name": "#%%\n"
    }
   },
   "outputs": [],
   "source": [
    "train_generator = zip(train_image_generator, train_mask_generator)"
   ]
  },
  {
   "cell_type": "code",
   "execution_count": null,
   "metadata": {
    "pycharm": {
     "name": "#%%\n"
    }
   },
   "outputs": [],
   "source": [
    "TRAIN_LENGTH = len(train_image_generator)*batch_size\n",
    "BATCH_SIZE = batch_size\n",
    "BUFFER_SIZE = 1000\n",
    "STEPS_PER_EPOCH = TRAIN_LENGTH // BATCH_SIZE"
   ]
  },
  {
   "cell_type": "code",
   "execution_count": null,
   "metadata": {
    "pycharm": {
     "name": "#%%\n"
    }
   },
   "outputs": [],
   "source": []
  },
  {
   "cell_type": "code",
   "execution_count": null,
   "metadata": {
    "pycharm": {
     "name": "#%%\n"
    }
   },
   "outputs": [],
   "source": [
    "def encoding_base_block(input_tensor,filters,kernal_size,activation='relu',batch_normalization=True):\n",
    "    x = input_tensor\n",
    "    x = layers.Conv2D(filters=filters,kernel_size=kernal_size,padding='same',kernel_initializer='he_normal')(x)\n",
    "    \n",
    "    if batch_normalization:\n",
    "        x = layers.BatchNormalization()(x)\n",
    "    x = layers.Activation(activation)(x)\n",
    "    x = layers.Conv2D(filters=filters,kernel_size=kernal_size,padding='same',kernel_initializer='he_normal')(x)\n",
    "    \n",
    "    if batch_normalization:\n",
    "        x = layers.BatchNormalization()(x)\n",
    "    x = layers.Activation(activation)(x)\n",
    "    return x"
   ]
  },
  {
   "cell_type": "code",
   "execution_count": null,
   "metadata": {
    "pycharm": {
     "name": "#%%\n"
    }
   },
   "outputs": [],
   "source": [
    "    "
   ]
  },
  {
   "cell_type": "code",
   "execution_count": null,
   "metadata": {
    "pycharm": {
     "name": "#%%\n"
    }
   },
   "outputs": [],
   "source": [
    "def generate_unet(n_filter=16,dropout=0.1,batch_normalization =True):\n",
    "    \n",
    "    \n",
    "    \n",
    "    # encoding/reduction section\n",
    "    inputs = tf.keras.layers.Input(shape=[128, 128, 3])\n",
    "    x = inputs\n",
    "    \n",
    "    conv1 = encoding_base_block(input_tensor = x,filters=n_filter*1,kernal_size=(3,3),batch_normalization=batch_normalization)\n",
    "    pool1 = layers.MaxPool2D((2, 2))(conv1)\n",
    "    pool1 = layers.Dropout(dropout)(pool1)\n",
    "    \n",
    "    conv2 = encoding_base_block(input_tensor = pool1,filters=n_filter*2,kernal_size=(3,3),batch_normalization=batch_normalization)\n",
    "    pool2 = layers.MaxPool2D((2,2))(conv2)\n",
    "    pool2 = layers.Dropout(dropout)(pool2)\n",
    "    \n",
    "    conv3 = encoding_base_block(input_tensor = pool2,filters=n_filter*4,kernal_size=(3,3),batch_normalization=batch_normalization)\n",
    "    pool3 = layers.MaxPool2D((2,2))(conv3)\n",
    "    pool3 = layers.Dropout(dropout)(pool3)\n",
    "    \n",
    "    conv4 = encoding_base_block(input_tensor = pool3,filters=n_filter*8,kernal_size=(3,3),batch_normalization=batch_normalization)\n",
    "    pool4 = layers.MaxPool2D((2,2))(conv4)\n",
    "    pool4 = layers.Dropout(dropout)(pool4)\n",
    "    \n",
    "    conv5 = encoding_base_block(input_tensor=pool4,filters=n_filter*16,kernal_size=(3,3),batch_normalization=batch_normalization)\n",
    "    \n",
    "    up6 = layers.Conv2DTranspose(n_filter*8,(3,3),strides=(2,2),padding='same')(conv5)\n",
    "    up6 = layers.concatenate([up6,conv4])\n",
    "    up6 = layers.Dropout(dropout)(up6)\n",
    "    conv6 = encoding_base_block(input_tensor=up6,filters=n_filter*8,kernal_size=(3,3),batch_normalization=batch_normalization)\n",
    "    \n",
    "    \n",
    "    up7 = layers.Conv2DTranspose(n_filter*4,(3,3),strides=(2,2),padding='same')(conv6)\n",
    "    up7 = layers.concatenate([up7,conv3])\n",
    "    up7 = layers.Dropout(dropout)(up7)\n",
    "    conv7 = encoding_base_block(input_tensor=up7,filters=n_filter*4,kernal_size=(3,3),batch_normalization=batch_normalization)\n",
    "    \n",
    "    up8 = layers.Conv2DTranspose(n_filter*2,(3,3),strides=(2,2),padding='same')(conv7)\n",
    "    up8 = layers.concatenate([up8,conv2])\n",
    "    up8 = layers.Dropout(dropout)(up8)\n",
    "    conv8 = encoding_base_block(input_tensor=up8,filters=n_filter*2,kernal_size=(3,3),batch_normalization=batch_normalization)\n",
    "    \n",
    "    \n",
    "    up9 = layers.Conv2DTranspose(n_filter*2,(3,3),strides=(2,2),padding='same')(conv8)\n",
    "    up9 = layers.concatenate([up9,conv1])\n",
    "    up9 = layers.Dropout(dropout)(up9)\n",
    "    conv9 = encoding_base_block(input_tensor=up9,filters=n_filter,kernal_size=(3,3),batch_normalization=batch_normalization)\n",
    "    \n",
    "    \n",
    "    outputs = layers.Conv2D(3,(1,1),activation='sigmoid')(conv9)\n",
    "    \n",
    "    \n",
    "    model = Model(inputs = inputs,outputs = [outputs])\n",
    "    \n",
    "    return model"
   ]
  },
  {
   "cell_type": "code",
   "execution_count": null,
   "metadata": {
    "pycharm": {
     "name": "#%%\n"
    }
   },
   "outputs": [],
   "source": [
    "def normalize(input_image, input_mask):\n",
    "    input_image = tf.cast(input_image, tf.float32) / 255.0\n",
    "    input_mask -= 1\n",
    "    return input_image, input_mask"
   ]
  },
  {
   "cell_type": "code",
   "execution_count": null,
   "metadata": {
    "pycharm": {
     "name": "#%%\n"
    }
   },
   "outputs": [],
   "source": [
    "@tf.function\n",
    "def load_image_train(datapoint):\n",
    "    input_image = tf.image.resize(datapoint['image'], (128, 128))\n",
    "    input_mask = tf.image.resize(datapoint['segmentation_mask'], (128, 128))\n",
    "\n",
    "    if tf.random.uniform(()) > 0.5:\n",
    "        input_image = tf.image.flip_left_right(input_image)\n",
    "        input_mask = tf.image.flip_left_right(input_mask)\n",
    "\n",
    "    input_image, input_mask = normalize(input_image, input_mask)\n",
    "\n",
    "    return input_image, input_mask"
   ]
  },
  {
   "cell_type": "code",
   "execution_count": null,
   "metadata": {
    "pycharm": {
     "name": "#%%\n"
    }
   },
   "outputs": [],
   "source": [
    "def load_image_test(datapoint):\n",
    "    input_image = tf.image.resize(datapoint['image'], (128, 128))\n",
    "    input_mask = tf.image.resize(datapoint['segmentation_mask'], (128, 128))\n",
    "\n",
    "    input_image, input_mask = normalize(input_image, input_mask)\n",
    "\n",
    "    return input_image, input_mask"
   ]
  },
  {
   "cell_type": "code",
   "execution_count": null,
   "metadata": {
    "pycharm": {
     "name": "#%%\n"
    }
   },
   "outputs": [],
   "source": []
  },
  {
   "cell_type": "code",
   "execution_count": null,
   "metadata": {
    "pycharm": {
     "name": "#%%\n"
    }
   },
   "outputs": [],
   "source": [
    "model = None\n",
    "model = generate_unet()\n",
    "model.compile(optimizer='adam', loss='categorical_crossentropy', metrics=['accuracy'])"
   ]
  },
  {
   "cell_type": "code",
   "execution_count": null,
   "metadata": {
    "pycharm": {
     "name": "#%%\n"
    }
   },
   "outputs": [],
   "source": [
    "model.summary()"
   ]
  },
  {
   "cell_type": "code",
   "execution_count": null,
   "metadata": {
    "pycharm": {
     "name": "#%%\n"
    }
   },
   "outputs": [],
   "source": [
    "tf.keras.utils.plot_model(model, show_shapes=True)"
   ]
  },
  {
   "cell_type": "code",
   "execution_count": null,
   "metadata": {
    "pycharm": {
     "name": "#%%\n"
    }
   },
   "outputs": [],
   "source": [
    "def create_mask(pred_mask):    \n",
    "    pred_mask = tf.argmax(pred_mask, axis=-1)    \n",
    "    pred_mask = pred_mask[..., tf.newaxis]\n",
    "    return pred_mask[0]"
   ]
  },
  {
   "cell_type": "code",
   "execution_count": null,
   "metadata": {
    "pycharm": {
     "name": "#%%\n"
    }
   },
   "outputs": [],
   "source": [
    "def show_predictions(dataset=None, num=1):\n",
    "    if dataset:\n",
    "        for image, mask in dataset.take(num):\n",
    "            pred_mask = model.predict(image)\n",
    "            display([image[0], mask[0], create_mask(pred_mask)])\n",
    "    else:\n",
    "        print('1 cleared_until_here')\n",
    "        sample_image_input = tf.keras.preprocessing.image.img_to_array(sample_image)        \n",
    "        print(sample_image_input.shape)\n",
    "        sample_input_image=preprocess_image(sample_image_input)\n",
    "        sample_input_image = np.expand_dims(sample_input_image,axis=0)\n",
    "        display([sample_image, sample_mask,create_mask(model.predict(sample_input_image))])"
   ]
  },
  {
   "cell_type": "code",
   "execution_count": null,
   "metadata": {
    "pycharm": {
     "name": "#%%\n"
    }
   },
   "outputs": [],
   "source": [
    "class DisplayCallback(tf.keras.callbacks.Callback):\n",
    "    \n",
    "    def on_epoch_end(self, epoch, logs=None):\n",
    "        print('4 clear here')\n",
    "        clear_output(wait=True)\n",
    "        show_predictions()\n",
    "        print ('\\nSample Prediction after epoch {}\\n'.format(epoch+1))"
   ]
  },
  {
   "cell_type": "code",
   "execution_count": null,
   "metadata": {
    "pycharm": {
     "name": "#%%\n"
    }
   },
   "outputs": [],
   "source": [
    "train_generator = (pair for pair in train_generator)\n",
    "train_generator"
   ]
  },
  {
   "cell_type": "code",
   "execution_count": null,
   "metadata": {
    "pycharm": {
     "name": "#%%\n"
    }
   },
   "outputs": [],
   "source": [
    "sample_image_input = tf.keras.preprocessing.image.img_to_array(sample_image)        \n",
    "\n",
    "sample_input_image=preprocess_image(sample_image_input)\n",
    "sample_input_image = np.expand_dims(sample_input_image,axis=0)"
   ]
  },
  {
   "cell_type": "code",
   "execution_count": null,
   "metadata": {
    "pycharm": {
     "name": "#%%\n"
    }
   },
   "outputs": [],
   "source": [
    "display([sample_image, sample_mask])"
   ]
  },
  {
   "cell_type": "code",
   "execution_count": null,
   "metadata": {
    "pycharm": {
     "name": "#%%\n"
    }
   },
   "outputs": [],
   "source": [
    "EPOCHS = 20\n",
    "VAL_SUBSPLITS = 5\n",
    "VALIDATION_STEPS = 0.1*len(train_image_generator)\n",
    "\n",
    "model_history = model.fit_generator(train_generator,epochs=EPOCHS,\n",
    "                          steps_per_epoch=STEPS_PER_EPOCH,                          \n",
    "                          callbacks=[DisplayCallback()]\n",
    "                         )"
   ]
  },
  {
   "cell_type": "code",
   "execution_count": null,
   "metadata": {
    "pycharm": {
     "name": "#%%\n"
    }
   },
   "outputs": [],
   "source": [
    "from PIL import Image"
   ]
  },
  {
   "cell_type": "code",
   "execution_count": null,
   "metadata": {
    "pycharm": {
     "name": "#%%\n"
    }
   },
   "outputs": [],
   "source": [
    "im1 = Image.open('C:\\\\Users\\\\tayyabm\\\\Downloads\\\\oxford_cats_segmentation\\\\annotations\\\\trimaps\\\\Abyssinian_1.png')\n",
    "im2 = Image.open('C:\\\\Users\\\\tayyabm\\\\Downloads\\\\oxford_cats_segmentation\\\\images\\\\Abyssinian_1.jpg')"
   ]
  },
  {
   "cell_type": "code",
   "execution_count": null,
   "metadata": {
    "pycharm": {
     "name": "#%%\n"
    }
   },
   "outputs": [],
   "source": [
    "print(im2.format)\n",
    "plt.subplot(1, 2, 1)\n",
    "plt.title('mask')\n",
    "plt.imshow(im1)\n",
    "plt.axis('off')\n",
    "\n",
    "plt.subplot(1, 2, 2)\n",
    "plt.title('oriignal')\n",
    "plt.imshow(im2)\n",
    "plt.axis('off')\n"
   ]
  },
  {
   "cell_type": "code",
   "execution_count": null,
   "metadata": {
    "pycharm": {
     "name": "#%%\n"
    }
   },
   "outputs": [],
   "source": [
    "plt.subplot(1, 2, 1)\n",
    "plt.title('mask')\n",
    "plt.imshow(im3)\n",
    "plt.axis('off')\n",
    "\n",
    "plt.subplot(1, 2, 2)\n",
    "plt.title('oriignal')\n",
    "plt.imshow(im4)\n",
    "plt.axis('off')"
   ]
  },
  {
   "cell_type": "markdown",
   "metadata": {},
   "source": [
    "### UNET with PreTrained Network"
   ]
  },
  {
   "cell_type": "code",
   "execution_count": null,
   "metadata": {
    "pycharm": {
     "name": "#%%\n"
    }
   },
   "outputs": [],
   "source": [
    "import tensorflow as tf\n",
    "from tensorflow.keras import layers\n",
    "from tensorflow.keras import Model\n",
    "from IPython.display import clear_output\n",
    "from tensorflow.keras.preprocessing.image import ImageDataGenerator\n",
    "import pandas as pd\n",
    "import matplotlib.pyplot as plt\n",
    "import numpy as np"
   ]
  },
  {
   "cell_type": "code",
   "execution_count": null,
   "metadata": {
    "pycharm": {
     "name": "#%%\n"
    }
   },
   "outputs": [],
   "source": [
    "def preprocess_image(input_image):\n",
    "    input_image = tf.cast(input_image, tf.float32) / 255.0\n",
    "    \n",
    "    return input_image\n",
    "def preprocess_mask(input_mask):\n",
    "    input_mask -= 1\n",
    "    return input_mask\n",
    "\n",
    "def display(display_list):\n",
    "    plt.figure(figsize=(15, 15))\n",
    "    title = ['Input Image', 'True Mask', 'Predicted Mask']\n",
    "    for i in range(len(display_list)):\n",
    "        plt.subplot(1, len(display_list), i+1)\n",
    "        plt.title(title[i])\n",
    "        plt.imshow(tf.keras.preprocessing.image.array_to_img(display_list[i]))\n",
    "        plt.axis('off')\n",
    "    plt.show()"
   ]
  },
  {
   "cell_type": "code",
   "execution_count": null,
   "metadata": {
    "pycharm": {
     "name": "#%%\n"
    }
   },
   "outputs": [],
   "source": [
    "columns = ['x_col']\n",
    "df_images = pd.DataFrame(columns=columns)\n",
    "df_masks = pd.DataFrame(columns=columns)\n",
    "\n",
    "trainval_path = 'C:\\\\Users\\\\tayyabm\\\\Downloads\\\\oxford_cats_segmentation\\\\annotations\\\\trainval.txt'\n",
    "test_path = 'C:\\\\Users\\\\tayyabm\\\\Downloads\\\\oxford_cats_segmentation\\\\annotations\\\\test.txt'\n",
    "\n",
    "def get_image_mask_df(path):\n",
    "    f = open(trainval_path,'r')\n",
    "    image_names = []\n",
    "    mask_names = []\n",
    "    for i in f:\n",
    "        image_name = i.split(' ')[0]\n",
    "        image_names.append(['images\\\\'+ image_name + '.jpg'])\n",
    "        mask_names.append(['annotations\\\\trimaps\\\\' + image_name+'.png'])\n",
    "    \n",
    "    \n",
    "    df_images = pd.DataFrame(image_names,columns = columns)\n",
    "    df_masks = pd.DataFrame(mask_names,columns = columns)\n",
    "    return df_images, df_masks\n",
    "df_train_images, df_train_masks = get_image_mask_df(trainval_path)\n",
    "df_test_images, df_test_masks = get_image_mask_df(test_path)"
   ]
  },
  {
   "cell_type": "code",
   "execution_count": null,
   "metadata": {
    "pycharm": {
     "name": "#%%\n"
    }
   },
   "outputs": [],
   "source": [
    "batch_size = 64"
   ]
  },
  {
   "cell_type": "code",
   "execution_count": null,
   "metadata": {
    "pycharm": {
     "name": "#%%\n"
    }
   },
   "outputs": [],
   "source": [
    "cats_directory = 'C:\\\\Users\\\\tayyabm\\\\Downloads\\\\oxford_cats_segmentation'\n",
    "\n",
    "image_data_gen = ImageDataGenerator(preprocessing_function=preprocess_image)\n",
    "mask_data_gen = ImageDataGenerator(preprocessing_function=preprocess_mask)\n",
    "# train_image_generator = image_data_gen.flow_from_directory(diabetes_directory_images,target_size=(128,128),class_mode=None,shuffle=False,seed=0)\n",
    "# train_mask_generator = image_data_gen.flow_from_directory(diabetes_directory_masks,target_size=(128,128),class_mode=None,shuffle=False,seed=0)\n",
    "train_image_generator = image_data_gen.flow_from_dataframe(dataframe=df_train_images,x_col='x_col',directory=cats_directory,class_mode=None,target_size=(128,128),batch_size=batch_size, shuffle=False,seed=1)\n",
    "train_mask_generator = mask_data_gen.flow_from_dataframe(dataframe=df_train_masks,x_col='x_col',directory=cats_directory,class_mode=None,target_size=(128,128),batch_size=batch_size, shuffle=False,seed=1)"
   ]
  },
  {
   "cell_type": "code",
   "execution_count": null,
   "metadata": {
    "pycharm": {
     "name": "#%%\n"
    }
   },
   "outputs": [],
   "source": [
    "sample_image = tf.keras.preprocessing.image.array_to_img(train_image_generator.next()[0])\n",
    "sample_mask = tf.keras.preprocessing.image.array_to_img(train_mask_generator.next()[0])\n",
    "display([sample_image,sample_mask])"
   ]
  },
  {
   "cell_type": "code",
   "execution_count": null,
   "metadata": {
    "pycharm": {
     "name": "#%%\n"
    }
   },
   "outputs": [],
   "source": [
    "train_generator = zip(train_image_generator, train_mask_generator)\n",
    "train_generator = (pair for pair in train_generator)"
   ]
  },
  {
   "cell_type": "code",
   "execution_count": null,
   "metadata": {
    "pycharm": {
     "name": "#%%\n"
    }
   },
   "outputs": [],
   "source": [
    "TRAIN_LENGTH = len(train_image_generator)*batch_size\n",
    "BATCH_SIZE = batch_size\n",
    "BUFFER_SIZE = 1000\n",
    "STEPS_PER_EPOCH = TRAIN_LENGTH // BATCH_SIZE"
   ]
  },
  {
   "cell_type": "code",
   "execution_count": null,
   "metadata": {
    "pycharm": {
     "name": "#%%\n"
    }
   },
   "outputs": [],
   "source": []
  },
  {
   "cell_type": "code",
   "execution_count": null,
   "metadata": {
    "pycharm": {
     "name": "#%%\n"
    }
   },
   "outputs": [],
   "source": []
  },
  {
   "cell_type": "code",
   "execution_count": null,
   "metadata": {
    "pycharm": {
     "name": "#%%\n"
    }
   },
   "outputs": [],
   "source": [
    "def create_mask(pred_mask):    \n",
    "    pred_mask = tf.argmax(pred_mask, axis=-1)    \n",
    "    pred_mask = pred_mask[..., tf.newaxis]\n",
    "    return pred_mask[0]"
   ]
  },
  {
   "cell_type": "code",
   "execution_count": null,
   "metadata": {
    "pycharm": {
     "name": "#%%\n"
    }
   },
   "outputs": [],
   "source": [
    "def show_predictions(dataset=None, num=1):\n",
    "    if dataset:\n",
    "        for image, mask in dataset.take(num):\n",
    "            pred_mask = model.predict(image)\n",
    "            display([image[0], mask[0], create_mask(pred_mask)])\n",
    "    else:\n",
    "        print('1 cleared_until_here')\n",
    "        sample_image_input = tf.keras.preprocessing.image.img_to_array(sample_image)        \n",
    "        print(sample_image_input.shape)\n",
    "        sample_input_image=preprocess_image(sample_image_input)\n",
    "        sample_input_image = np.expand_dims(sample_input_image,axis=0)\n",
    "        display([sample_image, sample_mask,create_mask(model_pretrained.predict(sample_input_image))])"
   ]
  },
  {
   "cell_type": "code",
   "execution_count": null,
   "metadata": {
    "pycharm": {
     "name": "#%%\n"
    }
   },
   "outputs": [],
   "source": [
    "class DisplayCallbackPre(tf.keras.callbacks.Callback):    \n",
    "    def on_epoch_end(self, epoch, logs=None):        \n",
    "        clear_output(wait=True)\n",
    "        show_predictions()\n",
    "        print ('\\nSample Prediction after epoch {}\\n'.format(epoch+1))"
   ]
  },
  {
   "cell_type": "code",
   "execution_count": null,
   "metadata": {
    "pycharm": {
     "name": "#%%\n"
    }
   },
   "outputs": [],
   "source": [
    "base_model = tf.keras.applications.MobileNetV2(input_shape=[128, 128, 3], include_top=False)\n",
    "base_model.summary()"
   ]
  },
  {
   "cell_type": "code",
   "execution_count": null,
   "metadata": {
    "pycharm": {
     "name": "#%%\n"
    }
   },
   "outputs": [],
   "source": []
  },
  {
   "cell_type": "code",
   "execution_count": null,
   "metadata": {
    "pycharm": {
     "name": "#%%\n"
    }
   },
   "outputs": [],
   "source": [
    "layer_names = [\n",
    "    'block_1_expand_relu',   # 64x64\n",
    "    'block_3_expand_relu',   # 32x32\n",
    "    'block_6_expand_relu',   # 16x16\n",
    "    'block_13_expand_relu',  # 8x8\n",
    "    'block_16_project',      # 4x4\n",
    "]\n",
    "layers = [base_model.get_layer(name).output for name in layer_names]\n",
    "down_stack = tf.keras.Model(inputs=base_model.input, outputs=layers)\n",
    "\n",
    "down_stack.trainable = False"
   ]
  },
  {
   "cell_type": "code",
   "execution_count": null,
   "metadata": {
    "pycharm": {
     "name": "#%%\n"
    }
   },
   "outputs": [],
   "source": [
    "down_stack.summary()"
   ]
  },
  {
   "cell_type": "code",
   "execution_count": null,
   "metadata": {
    "pycharm": {
     "name": "#%%\n"
    }
   },
   "outputs": [],
   "source": [
    "def upsample(filters, size, apply_dropout=False):\n",
    "    initializer = tf.random_normal_initializer(0., 0.02)\n",
    "\n",
    "    result = tf.keras.Sequential()\n",
    "    result.add(\n",
    "    tf.keras.layers.Conv2DTranspose(filters, size, strides=2,\n",
    "                                    padding='same',\n",
    "                                    kernel_initializer=initializer,\n",
    "                                    use_bias=False))\n",
    "\n",
    "    result.add(tf.keras.layers.BatchNormalization())\n",
    "\n",
    "    if apply_dropout:\n",
    "        result.add(tf.keras.layers.Dropout(0.5))\n",
    "\n",
    "    result.add(tf.keras.layers.ReLU())\n",
    "\n",
    "    return result"
   ]
  },
  {
   "cell_type": "code",
   "execution_count": null,
   "metadata": {
    "pycharm": {
     "name": "#%%\n"
    }
   },
   "outputs": [],
   "source": [
    "up_stack = [\n",
    "    upsample(512, 3),  # 4x4 -> 8x8\n",
    "    upsample(256, 3),  # 8x8 -> 16x16\n",
    "    upsample(128, 3),  # 16x16 -> 32x32\n",
    "    upsample(64, 3),   # 32x32 -> 64x64\n",
    "]"
   ]
  },
  {
   "cell_type": "code",
   "execution_count": null,
   "metadata": {
    "pycharm": {
     "name": "#%%\n"
    }
   },
   "outputs": [],
   "source": [
    "def unet_model(output_channels):\n",
    "\n",
    "  # This is the last layer of the model\n",
    "    last = tf.keras.layers.Conv2DTranspose(\n",
    "      output_channels, 3, strides=2,\n",
    "      padding='same', activation='softmax')  #64x64 -> 128x128\n",
    "\n",
    "    inputs = tf.keras.layers.Input(shape=[128, 128, 3])\n",
    "    x = inputs\n",
    "\n",
    "  # Downsampling through the model\n",
    "    skips = down_stack(x)\n",
    "    x = skips[-1]\n",
    "    skips = reversed(skips[:-1])\n",
    "\n",
    "  # Upsampling and establishing the skip connections\n",
    "    for up, skip in zip(up_stack, skips):\n",
    "        x = up(x)\n",
    "        concat = tf.keras.layers.Concatenate()\n",
    "        x = concat([x, skip])\n",
    "\n",
    "    x = last(x)\n",
    "\n",
    "    return tf.keras.Model(inputs=inputs, outputs=x)"
   ]
  },
  {
   "cell_type": "code",
   "execution_count": null,
   "metadata": {
    "pycharm": {
     "name": "#%%\n"
    }
   },
   "outputs": [],
   "source": [
    "model_pretrained = None\n",
    "model_pretrained = unet_model(3)\n",
    "model_pretrained.compile(optimizer='adam', loss='binary_crossentropy',\n",
    "              metrics=['accuracy'])\n",
    "model_pretrained.summary()"
   ]
  },
  {
   "cell_type": "code",
   "execution_count": null,
   "metadata": {
    "pycharm": {
     "name": "#%%\n"
    }
   },
   "outputs": [],
   "source": [
    "tf.keras.utils.plot_model(model_pretrained, show_shapes=True)"
   ]
  },
  {
   "cell_type": "code",
   "execution_count": null,
   "metadata": {
    "pycharm": {
     "name": "#%%\n"
    }
   },
   "outputs": [],
   "source": [
    "EPOCHS = 20\n",
    "VAL_SUBSPLITS = 5\n",
    "VALIDATION_STEPS = 0.1*len(train_image_generator)\n",
    "\n",
    "model_history = model_pretrained.fit_generator(train_generator,epochs=EPOCHS,\n",
    "                                               steps_per_epoch=STEPS_PER_EPOCH,                       \n",
    "                                               callbacks=[DisplayCallbackPre()])"
   ]
  },
  {
   "cell_type": "code",
   "execution_count": 4,
   "metadata": {
    "pycharm": {
     "name": "#%%\n"
    }
   },
   "outputs": [],
   "source": [
    "from tensorflow.keras.layers import Conv2D\n",
    "from tensorflow.keras.layers import Input\n",
    "from tensorflow.keras import Model"
   ]
  },
  {
   "cell_type": "code",
   "execution_count": 55,
   "metadata": {
    "pycharm": {
     "name": "#%%\n"
    }
   },
   "outputs": [
    {
     "name": "stdout",
     "output_type": "stream",
     "text": [
      "Model: \"model_7\"\n",
      "_________________________________________________________________\n",
      "Layer (type)                 Output Shape              Param #   \n",
      "=================================================================\n",
      "input_17 (InputLayer)        [(None, 1, 10, 3)]        0         \n",
      "_________________________________________________________________\n",
      "conv2d_16 (Conv2D)           (None, 1, 10, 1)          13        \n",
      "_________________________________________________________________\n",
      "quantize_layer_11 (QuantizeL (None, 1, 10, 1)          0         \n",
      "=================================================================\n",
      "Total params: 13\n",
      "Trainable params: 13\n",
      "Non-trainable params: 0\n",
      "_________________________________________________________________\n"
     ]
    }
   ],
   "source": [
    "model_test=None\n",
    "ip = Input(shape=(1,10,3))\n",
    "conv = Conv2D(filters=1,kernel_size=(2,2),padding='same')(ip)\n",
    "quant = QuantizeLayer()(conv)\n",
    "\n",
    "model_test = Model(inputs = ip,outputs = quant)\n",
    "model_test.summary()"
   ]
  },
  {
   "cell_type": "code",
   "execution_count": 58,
   "metadata": {
    "pycharm": {
     "name": "#%%\n"
    }
   },
   "outputs": [
    {
     "data": {
      "text/plain": [
       "array([[[[  2.3125],\n",
       "         [  2.3125],\n",
       "         [  2.3125],\n",
       "         [  2.3125],\n",
       "         [  2.3125],\n",
       "         [  2.3125],\n",
       "         [  2.3125],\n",
       "         [  2.3125],\n",
       "         [  2.3125],\n",
       "         [-22.1875]]]], dtype=float32)"
      ]
     },
     "execution_count": 58,
     "metadata": {},
     "output_type": "execute_result"
    }
   ],
   "source": [
    "oo = 100*tf.ones(\n",
    "    (1,1,10,3),\n",
    "    dtype=tf.dtypes.float32,\n",
    "    name=None\n",
    ")\n",
    "model_test.predict(oo)"
   ]
  },
  {
   "cell_type": "markdown",
   "metadata": {},
   "source": [
    "### UNET with Quantization"
   ]
  },
  {
   "cell_type": "code",
   "execution_count": 1,
   "metadata": {
    "pycharm": {
     "name": "#%%\n"
    }
   },
   "outputs": [
    {
     "name": "stderr",
     "output_type": "stream",
     "text": [
      "/home/mujahid/anaconda3/lib/python3.6/site-packages/h5py/__init__.py:36: FutureWarning: Conversion of the second argument of issubdtype from `float` to `np.floating` is deprecated. In future, it will be treated as `np.float64 == np.dtype(float).type`.\n",
      "  from ._conv import register_converters as _register_converters\n"
     ]
    }
   ],
   "source": [
    "import tensorflow as tf"
   ]
  },
  {
   "cell_type": "code",
   "execution_count": null,
   "metadata": {
    "pycharm": {
     "name": "#%%\n"
    }
   },
   "outputs": [],
   "source": [
    "from tensorflow.python.framework import ops"
   ]
  },
  {
   "cell_type": "code",
   "execution_count": null,
   "metadata": {
    "pycharm": {
     "name": "#%%\n"
    }
   },
   "outputs": [],
   "source": [
    "def log1pexp(x):\n",
    "    return tf.math.log(1 + tf.exp(x))"
   ]
  },
  {
   "cell_type": "code",
   "execution_count": null,
   "metadata": {
    "pycharm": {
     "name": "#%%\n"
    }
   },
   "outputs": [],
   "source": [
    "x = tf.constant(100.)\n",
    "print(x)\n",
    "y = log1pexp(x)\n",
    "y.numpy()"
   ]
  },
  {
   "cell_type": "code",
   "execution_count": null,
   "metadata": {
    "pycharm": {
     "name": "#%%\n"
    }
   },
   "outputs": [],
   "source": [
    "@tf.custom_gradient\n",
    "def log1pexp(x):\n",
    "    e = tf.exp(x)\n",
    "    def grad(dy):\n",
    "        return dy * (1 - 1 / (1 + e))\n",
    "    return tf.math.log(1 + e), grad"
   ]
  },
  {
   "cell_type": "code",
   "execution_count": null,
   "metadata": {
    "pycharm": {
     "name": "#%%\n"
    }
   },
   "outputs": [],
   "source": [
    "x = tf.constant(100.)\n",
    "y = log1pexp(x)"
   ]
  },
  {
   "cell_type": "code",
   "execution_count": null,
   "metadata": {
    "pycharm": {
     "name": "#%%\n"
    }
   },
   "outputs": [],
   "source": [
    "y"
   ]
  },
  {
   "cell_type": "code",
   "execution_count": 35,
   "metadata": {
    "pycharm": {
     "name": "#%%\n"
    }
   },
   "outputs": [],
   "source": [
    "tf.math.log(1 + tf.exp(100.))\n",
    "from tensorflow.keras import backend as K"
   ]
  },
  {
   "cell_type": "code",
   "execution_count": 52,
   "metadata": {
    "pycharm": {
     "name": "#%%\n"
    }
   },
   "outputs": [],
   "source": [
    "\n",
    "def clamp(input_tensor, num_bits=4):\n",
    "    input_tensor = tf.clip_by_value(input_tensor, clip_value_min=0, clip_value_max=2 ** (num_bits) - 1)\n",
    "    input_tensor = ((tf.math.round(input_tensor * 2 ** (num_bits)))) / 2 ** (num_bits)\n",
    "    return input_tensor\n",
    "\n",
    "\n",
    "def to_fixed_point(input_tensor, ibits, fbits):\n",
    "    input_tensor_i = K.sign(input_tensor) * clamp(tf.floor(tf.abs(input_tensor)), ibits)\n",
    "    input_tensor_f = K.sign(input_tensor) * clamp(K.abs(input_tensor) - tf.floor(K.abs(input_tensor)), fbits)\n",
    "    return input_tensor_i + input_tensor_f"
   ]
  },
  {
   "cell_type": "code",
   "execution_count": 53,
   "metadata": {
    "pycharm": {
     "name": "#%%\n"
    }
   },
   "outputs": [],
   "source": [
    "@tf.custom_gradient\n",
    "def quantize(x):\n",
    "    y = to_fixed_point(x, ibits=6, fbits=4)\n",
    "\n",
    "    def _fixed_point_grad(dy):\n",
    "        grad = dy\n",
    "        return grad\n",
    "\n",
    "    return y, _fixed_point_grad\n",
    "\n",
    "\n",
    "class QuantizeLayer(tf.keras.layers.Layer):\n",
    "    def __init__(self):\n",
    "        super(QuantizeLayer, self).__init__()\n",
    "\n",
    "    def call(self, x):\n",
    "        return quantize(x)"
   ]
  },
  {
   "cell_type": "code",
   "execution_count": 54,
   "metadata": {
    "pycharm": {
     "name": "#%%\n"
    }
   },
   "outputs": [],
   "source": [
    "q_layer = QuantizeLayer()"
   ]
  },
  {
   "cell_type": "code",
   "execution_count": null,
   "metadata": {
    "pycharm": {
     "name": "#%%\n"
    }
   },
   "outputs": [],
   "source": [
    "q_layer(tf.Variable(tf.constant([124,3,],dtype=tf.float32)))"
   ]
  },
  {
   "cell_type": "code",
   "execution_count": null,
   "metadata": {
    "pycharm": {
     "name": "#%%\n"
    }
   },
   "outputs": [],
   "source": [
    "input1 = Input(shape=(1,4))"
   ]
  },
  {
   "cell_type": "code",
   "execution_count": null,
   "metadata": {
    "pycharm": {
     "name": "#%%\n"
    }
   },
   "outputs": [],
   "source": []
  }
 ],
 "metadata": {
  "kernelspec": {
   "display_name": "Python 3",
   "language": "python",
   "name": "python3"
  },
  "language_info": {
   "codemirror_mode": {
    "name": "ipython",
    "version": 3
   },
   "file_extension": ".py",
   "mimetype": "text/x-python",
   "name": "python",
   "nbconvert_exporter": "python",
   "pygments_lexer": "ipython3",
   "version": "3.6.4"
  },
  "pycharm": {
   "stem_cell": {
    "cell_type": "raw",
    "source": [],
    "metadata": {
     "collapsed": false
    }
   }
  }
 },
 "nbformat": 4,
 "nbformat_minor": 2
}